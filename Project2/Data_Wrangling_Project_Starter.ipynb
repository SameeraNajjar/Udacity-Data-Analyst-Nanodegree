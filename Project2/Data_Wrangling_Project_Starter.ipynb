{
 "cells": [
  {
   "cell_type": "markdown",
   "metadata": {
    "id": "GNIwe5N7s0e_"
   },
   "source": [
    "# Real-world Data Wrangling"
   ]
  },
  {
   "cell_type": "markdown",
   "metadata": {
    "id": "lDYDkH-Zs7Nn"
   },
   "source": [
    "## 1. Gather data\n",
    "\n"
   ]
  },
  {
   "cell_type": "markdown",
   "metadata": {
    "id": "LbN7z7rcuqpO"
   },
   "source": [
    "### **1.1.** Problem Statement\n",
    "The goal is to analyze the relationship between self-employment income and wage or salary income across various households. Specifically, we aim to explore the distribution of these income types and identify any patterns or differences between them."
   ]
  },
  {
   "cell_type": "markdown",
   "metadata": {},
   "source": [
    "### 1.2. Import Libraries"
   ]
  },
  {
   "cell_type": "code",
   "execution_count": 1,
   "metadata": {
    "id": "gi6swhjSYqu2"
   },
   "outputs": [],
   "source": [
    "import pandas as pd\n",
    "import urllib.request\n",
    "import numpy as np\n",
    "import zipfile\n",
    "import seaborn as sns\n",
    "import matplotlib.pyplot as plt"
   ]
  },
  {
   "cell_type": "markdown",
   "metadata": {
    "id": "7e6gS0wL1KTu"
   },
   "source": [
    "### 1.3. Load Datasets\n",
    "#### **Dataset 1**:Self-Employment Income\n",
    "\n",
    " #####   Type: CSV File\n",
    " #####   Method: The data was gathered using the \"Downloading files\" method from the UCI Machine Learning Repository.\n",
    " #####  Dataset variables:\n",
    "  * SERIALNO: Household serial number\n",
    "  * PUMA: Public use microdata area code\n",
    "  * PINCP: Total person's income (past 12 months)"
   ]
  },
  {
   "cell_type": "code",
   "execution_count": 2,
   "metadata": {},
   "outputs": [],
   "source": [
    "# Load self-employment income dataset\n",
    "SelfEmploymentIncome=pd.read_csv('self-employment-income-in-the-past-12-months-for-households.csv')"
   ]
  },
  {
   "cell_type": "code",
   "execution_count": 3,
   "metadata": {},
   "outputs": [
    {
     "data": {
      "text/html": [
       "<div>\n",
       "<style scoped>\n",
       "    .dataframe tbody tr th:only-of-type {\n",
       "        vertical-align: middle;\n",
       "    }\n",
       "\n",
       "    .dataframe tbody tr th {\n",
       "        vertical-align: top;\n",
       "    }\n",
       "\n",
       "    .dataframe thead th {\n",
       "        text-align: right;\n",
       "    }\n",
       "</style>\n",
       "<table border=\"1\" class=\"dataframe\">\n",
       "  <thead>\n",
       "    <tr style=\"text-align: right;\">\n",
       "      <th></th>\n",
       "      <th>Neighborhood</th>\n",
       "      <th>Id</th>\n",
       "      <th>Estimate; Total:</th>\n",
       "      <th>Margin of Error; Total:</th>\n",
       "      <th>Estimate; Total: - With self-employment income</th>\n",
       "      <th>Margin of Error; Total: - With self-employment income</th>\n",
       "      <th>Estimate; Total: - No self-employment income</th>\n",
       "      <th>Margin of Error; Total: - No self-employment income</th>\n",
       "    </tr>\n",
       "  </thead>\n",
       "  <tbody>\n",
       "    <tr>\n",
       "      <th>0</th>\n",
       "      <td>Allegheny Center</td>\n",
       "      <td>1</td>\n",
       "      <td>870.0</td>\n",
       "      <td>93.000000</td>\n",
       "      <td>36.0</td>\n",
       "      <td>25.000000</td>\n",
       "      <td>834.0</td>\n",
       "      <td>88.000000</td>\n",
       "    </tr>\n",
       "    <tr>\n",
       "      <th>1</th>\n",
       "      <td>Allegheny West</td>\n",
       "      <td>2</td>\n",
       "      <td>146.0</td>\n",
       "      <td>36.000000</td>\n",
       "      <td>22.0</td>\n",
       "      <td>20.000000</td>\n",
       "      <td>124.0</td>\n",
       "      <td>34.000000</td>\n",
       "    </tr>\n",
       "    <tr>\n",
       "      <th>2</th>\n",
       "      <td>Allentown</td>\n",
       "      <td>3</td>\n",
       "      <td>1069.0</td>\n",
       "      <td>132.457540</td>\n",
       "      <td>12.0</td>\n",
       "      <td>23.685439</td>\n",
       "      <td>1057.0</td>\n",
       "      <td>132.457540</td>\n",
       "    </tr>\n",
       "    <tr>\n",
       "      <th>3</th>\n",
       "      <td>Arlington</td>\n",
       "      <td>4</td>\n",
       "      <td>701.0</td>\n",
       "      <td>104.465305</td>\n",
       "      <td>28.0</td>\n",
       "      <td>26.286879</td>\n",
       "      <td>673.0</td>\n",
       "      <td>105.531986</td>\n",
       "    </tr>\n",
       "    <tr>\n",
       "      <th>4</th>\n",
       "      <td>Arlington Heights</td>\n",
       "      <td>5</td>\n",
       "      <td>144.0</td>\n",
       "      <td>59.000000</td>\n",
       "      <td>0.0</td>\n",
       "      <td>10.000000</td>\n",
       "      <td>144.0</td>\n",
       "      <td>59.000000</td>\n",
       "    </tr>\n",
       "  </tbody>\n",
       "</table>\n",
       "</div>"
      ],
      "text/plain": [
       "        Neighborhood  Id  Estimate; Total:  Margin of Error; Total:  \\\n",
       "0   Allegheny Center   1             870.0                93.000000   \n",
       "1     Allegheny West   2             146.0                36.000000   \n",
       "2          Allentown   3            1069.0               132.457540   \n",
       "3          Arlington   4             701.0               104.465305   \n",
       "4  Arlington Heights   5             144.0                59.000000   \n",
       "\n",
       "   Estimate; Total: - With self-employment income  \\\n",
       "0                                            36.0   \n",
       "1                                            22.0   \n",
       "2                                            12.0   \n",
       "3                                            28.0   \n",
       "4                                             0.0   \n",
       "\n",
       "   Margin of Error; Total: - With self-employment income  \\\n",
       "0                                          25.000000       \n",
       "1                                          20.000000       \n",
       "2                                          23.685439       \n",
       "3                                          26.286879       \n",
       "4                                          10.000000       \n",
       "\n",
       "   Estimate; Total: - No self-employment income  \\\n",
       "0                                         834.0   \n",
       "1                                         124.0   \n",
       "2                                        1057.0   \n",
       "3                                         673.0   \n",
       "4                                         144.0   \n",
       "\n",
       "   Margin of Error; Total: - No self-employment income  \n",
       "0                                          88.000000    \n",
       "1                                          34.000000    \n",
       "2                                         132.457540    \n",
       "3                                         105.531986    \n",
       "4                                          59.000000    "
      ]
     },
     "execution_count": 3,
     "metadata": {},
     "output_type": "execute_result"
    }
   ],
   "source": [
    "# Display the first few rows to inspect the data\n",
    "SelfEmploymentIncome.head()"
   ]
  },
  {
   "cell_type": "markdown",
   "metadata": {},
   "source": [
    "#### Dataset 2: Wage or Salary Income\n",
    "\n",
    "##### Type: CSV File\n",
    "#####  Method: The data was gathered using the \"Downloading files\" method from the Western Pennsylvania Regional Data Center.\n",
    "#####  Dataset variables:\n",
    " * SERIALNO: Household serial number\n",
    " * PUMA: Public use microdata area code\n",
    " * WAGP: Wage or salary income (past 12 months)"
   ]
  },
  {
   "cell_type": "code",
   "execution_count": 4,
   "metadata": {},
   "outputs": [],
   "source": [
    "# Load wage or salary income dataset from the given URL\n",
    "url = \"https://data.wprdc.org/dataset/5b18c198-474c-4723-b735-cc5220ad43cc/resource/d159c6b3-f70a-439b-bd2b-0cb8735d76d4/download/wage-or-salary-income-in-the-past-12-months-for-households.csv\"\n",
    "SalaryIncome = pd.read_csv(url)"
   ]
  },
  {
   "cell_type": "code",
   "execution_count": 5,
   "metadata": {
    "scrolled": true
   },
   "outputs": [
    {
     "data": {
      "text/html": [
       "<div>\n",
       "<style scoped>\n",
       "    .dataframe tbody tr th:only-of-type {\n",
       "        vertical-align: middle;\n",
       "    }\n",
       "\n",
       "    .dataframe tbody tr th {\n",
       "        vertical-align: top;\n",
       "    }\n",
       "\n",
       "    .dataframe thead th {\n",
       "        text-align: right;\n",
       "    }\n",
       "</style>\n",
       "<table border=\"1\" class=\"dataframe\">\n",
       "  <thead>\n",
       "    <tr style=\"text-align: right;\">\n",
       "      <th></th>\n",
       "      <th>Neighborhood</th>\n",
       "      <th>Id</th>\n",
       "      <th>Estimate; Total:</th>\n",
       "      <th>Margin of Error; Total:</th>\n",
       "      <th>Estimate; Total: - With wage or salary income</th>\n",
       "      <th>Margin of Error; Total: - With wage or salary income</th>\n",
       "      <th>Estimate; Total: - No wage or salary income</th>\n",
       "      <th>Margin of Error; Total: - No wage or salary income</th>\n",
       "    </tr>\n",
       "  </thead>\n",
       "  <tbody>\n",
       "    <tr>\n",
       "      <th>0</th>\n",
       "      <td>Allegheny Center</td>\n",
       "      <td>1</td>\n",
       "      <td>870.0</td>\n",
       "      <td>93.000000</td>\n",
       "      <td>635.0</td>\n",
       "      <td>91.000000</td>\n",
       "      <td>235.0</td>\n",
       "      <td>59.000000</td>\n",
       "    </tr>\n",
       "    <tr>\n",
       "      <th>1</th>\n",
       "      <td>Allegheny West</td>\n",
       "      <td>2</td>\n",
       "      <td>146.0</td>\n",
       "      <td>36.000000</td>\n",
       "      <td>119.0</td>\n",
       "      <td>35.000000</td>\n",
       "      <td>27.0</td>\n",
       "      <td>20.000000</td>\n",
       "    </tr>\n",
       "    <tr>\n",
       "      <th>2</th>\n",
       "      <td>Allentown</td>\n",
       "      <td>3</td>\n",
       "      <td>1069.0</td>\n",
       "      <td>132.457540</td>\n",
       "      <td>736.0</td>\n",
       "      <td>140.335313</td>\n",
       "      <td>333.0</td>\n",
       "      <td>97.493590</td>\n",
       "    </tr>\n",
       "    <tr>\n",
       "      <th>3</th>\n",
       "      <td>Arlington</td>\n",
       "      <td>4</td>\n",
       "      <td>701.0</td>\n",
       "      <td>104.465305</td>\n",
       "      <td>570.0</td>\n",
       "      <td>106.273233</td>\n",
       "      <td>131.0</td>\n",
       "      <td>45.199558</td>\n",
       "    </tr>\n",
       "    <tr>\n",
       "      <th>4</th>\n",
       "      <td>Arlington Heights</td>\n",
       "      <td>5</td>\n",
       "      <td>144.0</td>\n",
       "      <td>59.000000</td>\n",
       "      <td>99.0</td>\n",
       "      <td>60.000000</td>\n",
       "      <td>45.0</td>\n",
       "      <td>30.000000</td>\n",
       "    </tr>\n",
       "  </tbody>\n",
       "</table>\n",
       "</div>"
      ],
      "text/plain": [
       "        Neighborhood  Id  Estimate; Total:  Margin of Error; Total:  \\\n",
       "0   Allegheny Center   1             870.0                93.000000   \n",
       "1     Allegheny West   2             146.0                36.000000   \n",
       "2          Allentown   3            1069.0               132.457540   \n",
       "3          Arlington   4             701.0               104.465305   \n",
       "4  Arlington Heights   5             144.0                59.000000   \n",
       "\n",
       "   Estimate; Total: - With wage or salary income  \\\n",
       "0                                          635.0   \n",
       "1                                          119.0   \n",
       "2                                          736.0   \n",
       "3                                          570.0   \n",
       "4                                           99.0   \n",
       "\n",
       "   Margin of Error; Total: - With wage or salary income  \\\n",
       "0                                          91.000000      \n",
       "1                                          35.000000      \n",
       "2                                         140.335313      \n",
       "3                                         106.273233      \n",
       "4                                          60.000000      \n",
       "\n",
       "   Estimate; Total: - No wage or salary income  \\\n",
       "0                                        235.0   \n",
       "1                                         27.0   \n",
       "2                                        333.0   \n",
       "3                                        131.0   \n",
       "4                                         45.0   \n",
       "\n",
       "   Margin of Error; Total: - No wage or salary income  \n",
       "0                                          59.000000   \n",
       "1                                          20.000000   \n",
       "2                                          97.493590   \n",
       "3                                          45.199558   \n",
       "4                                          30.000000   "
      ]
     },
     "execution_count": 5,
     "metadata": {},
     "output_type": "execute_result"
    }
   ],
   "source": [
    "# Display the first few rows to inspect the data\n",
    "SalaryIncome.head()"
   ]
  },
  {
   "cell_type": "markdown",
   "metadata": {
    "id": "QwSWIVmotLgV"
   },
   "source": [
    "## 2. Assess data\n",
    "\n"
   ]
  },
  {
   "cell_type": "markdown",
   "metadata": {},
   "source": [
    "### 2.1. Quality Issue 1: Missing Values\n"
   ]
  },
  {
   "cell_type": "code",
   "execution_count": 22,
   "metadata": {},
   "outputs": [
    {
     "name": "stdout",
     "output_type": "stream",
     "text": [
      "Missing values in Self Employment Income:\n"
     ]
    },
    {
     "data": {
      "text/plain": [
       "Neighborhood                                             0\n",
       "Id                                                       0\n",
       "Estimate; Total:                                         0\n",
       "Margin of Error; Total:                                  0\n",
       "Estimate; Total: - With self-employment income           0\n",
       "Margin of Error; Total: - With self-employment income    0\n",
       "Estimate; Total: - No self-employment income             0\n",
       "Margin of Error; Total: - No self-employment income      0\n",
       "dtype: int64"
      ]
     },
     "execution_count": 22,
     "metadata": {},
     "output_type": "execute_result"
    }
   ],
   "source": [
    "# Check for missing values in SelfEmploymentIncome Dataset \n",
    "missing_values_SelfEmploymentIncome = SelfEmploymentIncome.isnull().sum()\n",
    "print(\"Missing values in Self Employment Income:\")\n",
    "missing_values_SelfEmploymentIncome"
   ]
  },
  {
   "cell_type": "code",
   "execution_count": 23,
   "metadata": {},
   "outputs": [
    {
     "name": "stdout",
     "output_type": "stream",
     "text": [
      "Missing values in Salary Income:\n"
     ]
    },
    {
     "data": {
      "text/plain": [
       "Neighborhood                                            0\n",
       "Id                                                      0\n",
       "Estimate; Total:                                        0\n",
       "Margin of Error; Total:                                 0\n",
       "Estimate; Total: - With wage or salary income           0\n",
       "Margin of Error; Total: - With wage or salary income    0\n",
       "Estimate; Total: - No wage or salary income             0\n",
       "Margin of Error; Total: - No wage or salary income      0\n",
       "dtype: int64"
      ]
     },
     "execution_count": 23,
     "metadata": {},
     "output_type": "execute_result"
    }
   ],
   "source": [
    "# Check for missing values in SalaryIncome Dataset\n",
    "missing_values_SalaryIncome = SalaryIncome.isnull().sum()\n",
    "print(\"Missing values in Salary Income:\")\n",
    "missing_values_SalaryIncome"
   ]
  },
  {
   "cell_type": "markdown",
   "metadata": {},
   "source": [
    "##### Justification: We use isnull() and sum() methods to calculate the total number of missing values in each column. This helps identify whether the dataset has completeness issues."
   ]
  },
  {
   "cell_type": "markdown",
   "metadata": {},
   "source": [
    "### 2.2. Quality Issue 2: : Inaccurate Data"
   ]
  },
  {
   "cell_type": "markdown",
   "metadata": {},
   "source": [
    "##### Description: Inaccurate data refers to inconsistencies or errors in the dataset. For instance, some columns may have values that are far outside the expected range."
   ]
  },
  {
   "cell_type": "code",
   "execution_count": 25,
   "metadata": {},
   "outputs": [
    {
     "name": "stdout",
     "output_type": "stream",
     "text": [
      "Summary statistics for SelfEmploymentIncome:\n"
     ]
    },
    {
     "data": {
      "text/html": [
       "<div>\n",
       "<style scoped>\n",
       "    .dataframe tbody tr th:only-of-type {\n",
       "        vertical-align: middle;\n",
       "    }\n",
       "\n",
       "    .dataframe tbody tr th {\n",
       "        vertical-align: top;\n",
       "    }\n",
       "\n",
       "    .dataframe thead th {\n",
       "        text-align: right;\n",
       "    }\n",
       "</style>\n",
       "<table border=\"1\" class=\"dataframe\">\n",
       "  <thead>\n",
       "    <tr style=\"text-align: right;\">\n",
       "      <th></th>\n",
       "      <th>Id</th>\n",
       "      <th>Estimate; Total:</th>\n",
       "      <th>Margin of Error; Total:</th>\n",
       "      <th>Estimate; Total: - With self-employment income</th>\n",
       "      <th>Margin of Error; Total: - With self-employment income</th>\n",
       "      <th>Estimate; Total: - No self-employment income</th>\n",
       "      <th>Margin of Error; Total: - No self-employment income</th>\n",
       "    </tr>\n",
       "  </thead>\n",
       "  <tbody>\n",
       "    <tr>\n",
       "      <th>count</th>\n",
       "      <td>91.00000</td>\n",
       "      <td>91.000000</td>\n",
       "      <td>91.000000</td>\n",
       "      <td>91.000000</td>\n",
       "      <td>91.000000</td>\n",
       "      <td>91.000000</td>\n",
       "      <td>91.000000</td>\n",
       "    </tr>\n",
       "    <tr>\n",
       "      <th>mean</th>\n",
       "      <td>46.00000</td>\n",
       "      <td>1471.791209</td>\n",
       "      <td>130.292002</td>\n",
       "      <td>112.703297</td>\n",
       "      <td>48.282161</td>\n",
       "      <td>1359.087912</td>\n",
       "      <td>131.453431</td>\n",
       "    </tr>\n",
       "    <tr>\n",
       "      <th>std</th>\n",
       "      <td>26.41338</td>\n",
       "      <td>1451.294101</td>\n",
       "      <td>76.774451</td>\n",
       "      <td>159.418073</td>\n",
       "      <td>36.201105</td>\n",
       "      <td>1315.260926</td>\n",
       "      <td>77.120871</td>\n",
       "    </tr>\n",
       "    <tr>\n",
       "      <th>min</th>\n",
       "      <td>1.00000</td>\n",
       "      <td>3.000000</td>\n",
       "      <td>3.000000</td>\n",
       "      <td>0.000000</td>\n",
       "      <td>10.000000</td>\n",
       "      <td>3.000000</td>\n",
       "      <td>3.000000</td>\n",
       "    </tr>\n",
       "    <tr>\n",
       "      <th>25%</th>\n",
       "      <td>23.50000</td>\n",
       "      <td>513.500000</td>\n",
       "      <td>65.905592</td>\n",
       "      <td>22.000000</td>\n",
       "      <td>21.736103</td>\n",
       "      <td>478.000000</td>\n",
       "      <td>69.503333</td>\n",
       "    </tr>\n",
       "    <tr>\n",
       "      <th>50%</th>\n",
       "      <td>46.00000</td>\n",
       "      <td>1082.000000</td>\n",
       "      <td>125.207827</td>\n",
       "      <td>66.000000</td>\n",
       "      <td>39.000000</td>\n",
       "      <td>1057.000000</td>\n",
       "      <td>125.379424</td>\n",
       "    </tr>\n",
       "    <tr>\n",
       "      <th>75%</th>\n",
       "      <td>68.50000</td>\n",
       "      <td>1886.500000</td>\n",
       "      <td>168.540225</td>\n",
       "      <td>129.500000</td>\n",
       "      <td>67.072593</td>\n",
       "      <td>1752.500000</td>\n",
       "      <td>166.653825</td>\n",
       "    </tr>\n",
       "    <tr>\n",
       "      <th>max</th>\n",
       "      <td>91.00000</td>\n",
       "      <td>7484.000000</td>\n",
       "      <td>360.919659</td>\n",
       "      <td>1021.000000</td>\n",
       "      <td>203.985294</td>\n",
       "      <td>6967.000000</td>\n",
       "      <td>356.133402</td>\n",
       "    </tr>\n",
       "  </tbody>\n",
       "</table>\n",
       "</div>"
      ],
      "text/plain": [
       "             Id  Estimate; Total:  Margin of Error; Total:  \\\n",
       "count  91.00000         91.000000                91.000000   \n",
       "mean   46.00000       1471.791209               130.292002   \n",
       "std    26.41338       1451.294101                76.774451   \n",
       "min     1.00000          3.000000                 3.000000   \n",
       "25%    23.50000        513.500000                65.905592   \n",
       "50%    46.00000       1082.000000               125.207827   \n",
       "75%    68.50000       1886.500000               168.540225   \n",
       "max    91.00000       7484.000000               360.919659   \n",
       "\n",
       "       Estimate; Total: - With self-employment income  \\\n",
       "count                                       91.000000   \n",
       "mean                                       112.703297   \n",
       "std                                        159.418073   \n",
       "min                                          0.000000   \n",
       "25%                                         22.000000   \n",
       "50%                                         66.000000   \n",
       "75%                                        129.500000   \n",
       "max                                       1021.000000   \n",
       "\n",
       "       Margin of Error; Total: - With self-employment income  \\\n",
       "count                                          91.000000       \n",
       "mean                                           48.282161       \n",
       "std                                            36.201105       \n",
       "min                                            10.000000       \n",
       "25%                                            21.736103       \n",
       "50%                                            39.000000       \n",
       "75%                                            67.072593       \n",
       "max                                           203.985294       \n",
       "\n",
       "       Estimate; Total: - No self-employment income  \\\n",
       "count                                     91.000000   \n",
       "mean                                    1359.087912   \n",
       "std                                     1315.260926   \n",
       "min                                        3.000000   \n",
       "25%                                      478.000000   \n",
       "50%                                     1057.000000   \n",
       "75%                                     1752.500000   \n",
       "max                                     6967.000000   \n",
       "\n",
       "       Margin of Error; Total: - No self-employment income  \n",
       "count                                          91.000000    \n",
       "mean                                          131.453431    \n",
       "std                                            77.120871    \n",
       "min                                             3.000000    \n",
       "25%                                            69.503333    \n",
       "50%                                           125.379424    \n",
       "75%                                           166.653825    \n",
       "max                                           356.133402    "
      ]
     },
     "execution_count": 25,
     "metadata": {},
     "output_type": "execute_result"
    }
   ],
   "source": [
    "# Check summary statistics of SelfEmploymentIncome and SalaryIncome datasets\n",
    "print(\"Summary statistics for SelfEmploymentIncome:\")\n",
    "SelfEmploymentIncome.describe()"
   ]
  },
  {
   "cell_type": "code",
   "execution_count": 26,
   "metadata": {
    "scrolled": true
   },
   "outputs": [
    {
     "name": "stdout",
     "output_type": "stream",
     "text": [
      "Summary statistics for SalaryIncome:\n"
     ]
    },
    {
     "data": {
      "text/html": [
       "<div>\n",
       "<style scoped>\n",
       "    .dataframe tbody tr th:only-of-type {\n",
       "        vertical-align: middle;\n",
       "    }\n",
       "\n",
       "    .dataframe tbody tr th {\n",
       "        vertical-align: top;\n",
       "    }\n",
       "\n",
       "    .dataframe thead th {\n",
       "        text-align: right;\n",
       "    }\n",
       "</style>\n",
       "<table border=\"1\" class=\"dataframe\">\n",
       "  <thead>\n",
       "    <tr style=\"text-align: right;\">\n",
       "      <th></th>\n",
       "      <th>Estimate; Total:</th>\n",
       "      <th>Margin of Error; Total:</th>\n",
       "      <th>Estimate; Total: - With wage or salary income</th>\n",
       "      <th>Margin of Error; Total: - With wage or salary income</th>\n",
       "      <th>Estimate; Total: - No wage or salary income</th>\n",
       "      <th>Margin of Error; Total: - No wage or salary income</th>\n",
       "    </tr>\n",
       "  </thead>\n",
       "  <tbody>\n",
       "    <tr>\n",
       "      <th>count</th>\n",
       "      <td>91.000000</td>\n",
       "      <td>91.000000</td>\n",
       "      <td>91.000000</td>\n",
       "      <td>91.000000</td>\n",
       "      <td>91.000000</td>\n",
       "      <td>91.000000</td>\n",
       "    </tr>\n",
       "    <tr>\n",
       "      <th>mean</th>\n",
       "      <td>1471.791209</td>\n",
       "      <td>130.292002</td>\n",
       "      <td>1069.472527</td>\n",
       "      <td>124.761630</td>\n",
       "      <td>402.318681</td>\n",
       "      <td>87.757095</td>\n",
       "    </tr>\n",
       "    <tr>\n",
       "      <th>std</th>\n",
       "      <td>1451.294101</td>\n",
       "      <td>76.774451</td>\n",
       "      <td>1119.947046</td>\n",
       "      <td>74.340788</td>\n",
       "      <td>365.453048</td>\n",
       "      <td>50.452397</td>\n",
       "    </tr>\n",
       "    <tr>\n",
       "      <th>min</th>\n",
       "      <td>3.000000</td>\n",
       "      <td>3.000000</td>\n",
       "      <td>0.000000</td>\n",
       "      <td>9.000000</td>\n",
       "      <td>0.000000</td>\n",
       "      <td>3.000000</td>\n",
       "    </tr>\n",
       "    <tr>\n",
       "      <th>25%</th>\n",
       "      <td>513.500000</td>\n",
       "      <td>65.905592</td>\n",
       "      <td>343.000000</td>\n",
       "      <td>62.500000</td>\n",
       "      <td>129.000000</td>\n",
       "      <td>44.099779</td>\n",
       "    </tr>\n",
       "    <tr>\n",
       "      <th>50%</th>\n",
       "      <td>1082.000000</td>\n",
       "      <td>125.207827</td>\n",
       "      <td>729.000000</td>\n",
       "      <td>115.866302</td>\n",
       "      <td>333.000000</td>\n",
       "      <td>88.566359</td>\n",
       "    </tr>\n",
       "    <tr>\n",
       "      <th>75%</th>\n",
       "      <td>1886.500000</td>\n",
       "      <td>168.540225</td>\n",
       "      <td>1276.000000</td>\n",
       "      <td>159.278478</td>\n",
       "      <td>525.000000</td>\n",
       "      <td>120.612971</td>\n",
       "    </tr>\n",
       "    <tr>\n",
       "      <th>max</th>\n",
       "      <td>7484.000000</td>\n",
       "      <td>360.919659</td>\n",
       "      <td>6134.000000</td>\n",
       "      <td>363.641307</td>\n",
       "      <td>2212.000000</td>\n",
       "      <td>249.801922</td>\n",
       "    </tr>\n",
       "  </tbody>\n",
       "</table>\n",
       "</div>"
      ],
      "text/plain": [
       "       Estimate; Total:  Margin of Error; Total:  \\\n",
       "count         91.000000                91.000000   \n",
       "mean        1471.791209               130.292002   \n",
       "std         1451.294101                76.774451   \n",
       "min            3.000000                 3.000000   \n",
       "25%          513.500000                65.905592   \n",
       "50%         1082.000000               125.207827   \n",
       "75%         1886.500000               168.540225   \n",
       "max         7484.000000               360.919659   \n",
       "\n",
       "       Estimate; Total: - With wage or salary income  \\\n",
       "count                                      91.000000   \n",
       "mean                                     1069.472527   \n",
       "std                                      1119.947046   \n",
       "min                                         0.000000   \n",
       "25%                                       343.000000   \n",
       "50%                                       729.000000   \n",
       "75%                                      1276.000000   \n",
       "max                                      6134.000000   \n",
       "\n",
       "       Margin of Error; Total: - With wage or salary income  \\\n",
       "count                                          91.000000      \n",
       "mean                                          124.761630      \n",
       "std                                            74.340788      \n",
       "min                                             9.000000      \n",
       "25%                                            62.500000      \n",
       "50%                                           115.866302      \n",
       "75%                                           159.278478      \n",
       "max                                           363.641307      \n",
       "\n",
       "       Estimate; Total: - No wage or salary income  \\\n",
       "count                                    91.000000   \n",
       "mean                                    402.318681   \n",
       "std                                     365.453048   \n",
       "min                                       0.000000   \n",
       "25%                                     129.000000   \n",
       "50%                                     333.000000   \n",
       "75%                                     525.000000   \n",
       "max                                    2212.000000   \n",
       "\n",
       "       Margin of Error; Total: - No wage or salary income  \n",
       "count                                          91.000000   \n",
       "mean                                           87.757095   \n",
       "std                                            50.452397   \n",
       "min                                             3.000000   \n",
       "25%                                            44.099779   \n",
       "50%                                            88.566359   \n",
       "75%                                           120.612971   \n",
       "max                                           249.801922   "
      ]
     },
     "execution_count": 26,
     "metadata": {},
     "output_type": "execute_result"
    }
   ],
   "source": [
    "print(\"Summary statistics for SalaryIncome:\")\n",
    "SalaryIncome.describe()"
   ]
  },
  {
   "cell_type": "markdown",
   "metadata": {},
   "source": [
    "##### Justification: describe() helps us detect outliers by providing statistics like mean, min, and max values. Any unusually high or low values could indicate inaccuracies or outliers in the data."
   ]
  },
  {
   "cell_type": "markdown",
   "metadata": {
    "id": "lXhGiYyiwwKN"
   },
   "source": [
    "### 2.3. Tidiness Issue 1: Redundant Columns\n"
   ]
  },
  {
   "cell_type": "code",
   "execution_count": 27,
   "metadata": {
    "id": "BTuQw7Rbsio4"
   },
   "outputs": [
    {
     "name": "stdout",
     "output_type": "stream",
     "text": [
      "Redundant columns in Self Employment Income: ['SERIALNO', 'PUMA']\n"
     ]
    }
   ],
   "source": [
    "# Identify and list redundant columns\n",
    "redundant_columns_SelfEmploymentIncome = ['SERIALNO', 'PUMA']\n",
    "print(\"Redundant columns in Self Employment Income:\", redundant_columns_SelfEmploymentIncome)\n"
   ]
  },
  {
   "cell_type": "code",
   "execution_count": 28,
   "metadata": {
    "id": "fleC5rORI0Xl"
   },
   "outputs": [
    {
     "name": "stdout",
     "output_type": "stream",
     "text": [
      "Redundant columns in Salary Income: ['SERIALNO', 'PUMA']\n"
     ]
    }
   ],
   "source": [
    "redundant_columns_SalaryIncome = ['SERIALNO', 'PUMA']\n",
    "print(\"Redundant columns in Salary Income:\", redundant_columns_SalaryIncome)"
   ]
  },
  {
   "cell_type": "markdown",
   "metadata": {},
   "source": [
    "##### Justification: These columns are irrelevant for the specific research question and can be safely dropped to make the dataset more manageable and focused."
   ]
  },
  {
   "cell_type": "markdown",
   "metadata": {
    "id": "4ffMoRGSwzYj"
   },
   "source": [
    "### 2.4. Tidiness Issue 2: Inconsistent Data Types\n"
   ]
  },
  {
   "cell_type": "markdown",
   "metadata": {},
   "source": [
    "##### Description: Columns should maintain consistent data types. For example, numerical data should not be stored as strings. We need to ensure that data types across columns are consistent."
   ]
  },
  {
   "cell_type": "code",
   "execution_count": 29,
   "metadata": {
    "id": "XUpeoqokw5Qt"
   },
   "outputs": [
    {
     "name": "stdout",
     "output_type": "stream",
     "text": [
      "Data types in Self Employment Income:\n"
     ]
    },
    {
     "data": {
      "text/plain": [
       "Neighborhood                                              object\n",
       "Id                                                         int64\n",
       "Estimate; Total:                                         float64\n",
       "Margin of Error; Total:                                  float64\n",
       "Estimate; Total: - With self-employment income           float64\n",
       "Margin of Error; Total: - With self-employment income    float64\n",
       "Estimate; Total: - No self-employment income             float64\n",
       "Margin of Error; Total: - No self-employment income      float64\n",
       "dtype: object"
      ]
     },
     "execution_count": 29,
     "metadata": {},
     "output_type": "execute_result"
    }
   ],
   "source": [
    "# Check data types of both datasets\n",
    "print(\"Data types in Self Employment Income:\")\n",
    "SelfEmploymentIncome.dtypes\n"
   ]
  },
  {
   "cell_type": "code",
   "execution_count": 30,
   "metadata": {
    "id": "c8JK4DoXxtFA"
   },
   "outputs": [
    {
     "name": "stdout",
     "output_type": "stream",
     "text": [
      "Data types in Salary Income:\n"
     ]
    },
    {
     "data": {
      "text/plain": [
       "Neighborhood                                             object\n",
       "Id                                                       object\n",
       "Estimate; Total:                                        float64\n",
       "Margin of Error; Total:                                 float64\n",
       "Estimate; Total: - With wage or salary income           float64\n",
       "Margin of Error; Total: - With wage or salary income    float64\n",
       "Estimate; Total: - No wage or salary income             float64\n",
       "Margin of Error; Total: - No wage or salary income      float64\n",
       "dtype: object"
      ]
     },
     "execution_count": 30,
     "metadata": {},
     "output_type": "execute_result"
    }
   ],
   "source": [
    "print(\"Data types in Salary Income:\")\n",
    "SalaryIncome.dtypes"
   ]
  },
  {
   "cell_type": "markdown",
   "metadata": {},
   "source": [
    "##### Justification: Using dtypes, we can inspect whether numeric columns are stored as such, and if any string representations of numbers exist, they should be converted to numeric types for appropriate analysis."
   ]
  },
  {
   "cell_type": "markdown",
   "metadata": {
    "id": "D6gmLnBttpCh"
   },
   "source": [
    "## 3. Clean data\n",
    "\n",
    "\n",
    "* Cleaning Strategy\n",
    "* Handle Missing Values\n",
    "* Ensure Correct Data Types\n",
    "* Rename Columns for Consistency\n",
    "* Remove Duplicate Rows\n"
   ]
  },
  {
   "cell_type": "markdown",
   "metadata": {},
   "source": [
    "### 3.1. Handle Missing Values"
   ]
  },
  {
   "cell_type": "code",
   "execution_count": 14,
   "metadata": {},
   "outputs": [
    {
     "name": "stdout",
     "output_type": "stream",
     "text": [
      "\n",
      "Cleaned DataFrame Salary Income:\n"
     ]
    },
    {
     "data": {
      "text/html": [
       "<div>\n",
       "<style scoped>\n",
       "    .dataframe tbody tr th:only-of-type {\n",
       "        vertical-align: middle;\n",
       "    }\n",
       "\n",
       "    .dataframe tbody tr th {\n",
       "        vertical-align: top;\n",
       "    }\n",
       "\n",
       "    .dataframe thead th {\n",
       "        text-align: right;\n",
       "    }\n",
       "</style>\n",
       "<table border=\"1\" class=\"dataframe\">\n",
       "  <thead>\n",
       "    <tr style=\"text-align: right;\">\n",
       "      <th></th>\n",
       "      <th>Neighborhood</th>\n",
       "      <th>Id</th>\n",
       "      <th>Estimate; Total:</th>\n",
       "      <th>Margin of Error; Total:</th>\n",
       "      <th>Estimate; Total: - With wage or salary income</th>\n",
       "      <th>Margin of Error; Total: - With wage or salary income</th>\n",
       "      <th>Estimate; Total: - No wage or salary income</th>\n",
       "      <th>Margin of Error; Total: - No wage or salary income</th>\n",
       "    </tr>\n",
       "  </thead>\n",
       "  <tbody>\n",
       "    <tr>\n",
       "      <th>0</th>\n",
       "      <td>Allegheny Center</td>\n",
       "      <td>1</td>\n",
       "      <td>870.0</td>\n",
       "      <td>93.000000</td>\n",
       "      <td>635.0</td>\n",
       "      <td>91.000000</td>\n",
       "      <td>235.0</td>\n",
       "      <td>59.000000</td>\n",
       "    </tr>\n",
       "    <tr>\n",
       "      <th>1</th>\n",
       "      <td>Allegheny West</td>\n",
       "      <td>2</td>\n",
       "      <td>146.0</td>\n",
       "      <td>36.000000</td>\n",
       "      <td>119.0</td>\n",
       "      <td>35.000000</td>\n",
       "      <td>27.0</td>\n",
       "      <td>20.000000</td>\n",
       "    </tr>\n",
       "    <tr>\n",
       "      <th>2</th>\n",
       "      <td>Allentown</td>\n",
       "      <td>3</td>\n",
       "      <td>1069.0</td>\n",
       "      <td>132.457540</td>\n",
       "      <td>736.0</td>\n",
       "      <td>140.335313</td>\n",
       "      <td>333.0</td>\n",
       "      <td>97.493590</td>\n",
       "    </tr>\n",
       "    <tr>\n",
       "      <th>3</th>\n",
       "      <td>Arlington</td>\n",
       "      <td>4</td>\n",
       "      <td>701.0</td>\n",
       "      <td>104.465305</td>\n",
       "      <td>570.0</td>\n",
       "      <td>106.273233</td>\n",
       "      <td>131.0</td>\n",
       "      <td>45.199558</td>\n",
       "    </tr>\n",
       "    <tr>\n",
       "      <th>4</th>\n",
       "      <td>Arlington Heights</td>\n",
       "      <td>5</td>\n",
       "      <td>144.0</td>\n",
       "      <td>59.000000</td>\n",
       "      <td>99.0</td>\n",
       "      <td>60.000000</td>\n",
       "      <td>45.0</td>\n",
       "      <td>30.000000</td>\n",
       "    </tr>\n",
       "    <tr>\n",
       "      <th>...</th>\n",
       "      <td>...</td>\n",
       "      <td>...</td>\n",
       "      <td>...</td>\n",
       "      <td>...</td>\n",
       "      <td>...</td>\n",
       "      <td>...</td>\n",
       "      <td>...</td>\n",
       "      <td>...</td>\n",
       "    </tr>\n",
       "    <tr>\n",
       "      <th>86</th>\n",
       "      <td>Upper Lawrenceville</td>\n",
       "      <td>87</td>\n",
       "      <td>1287.0</td>\n",
       "      <td>137.091211</td>\n",
       "      <td>998.0</td>\n",
       "      <td>141.322327</td>\n",
       "      <td>289.0</td>\n",
       "      <td>92.330927</td>\n",
       "    </tr>\n",
       "    <tr>\n",
       "      <th>87</th>\n",
       "      <td>West End</td>\n",
       "      <td>88</td>\n",
       "      <td>99.0</td>\n",
       "      <td>47.000000</td>\n",
       "      <td>81.0</td>\n",
       "      <td>49.000000</td>\n",
       "      <td>18.0</td>\n",
       "      <td>16.000000</td>\n",
       "    </tr>\n",
       "    <tr>\n",
       "      <th>88</th>\n",
       "      <td>West Oakland</td>\n",
       "      <td>89</td>\n",
       "      <td>630.0</td>\n",
       "      <td>79.611557</td>\n",
       "      <td>334.0</td>\n",
       "      <td>64.660653</td>\n",
       "      <td>296.0</td>\n",
       "      <td>66.241981</td>\n",
       "    </tr>\n",
       "    <tr>\n",
       "      <th>89</th>\n",
       "      <td>Westwood</td>\n",
       "      <td>90</td>\n",
       "      <td>1492.0</td>\n",
       "      <td>112.538882</td>\n",
       "      <td>1189.0</td>\n",
       "      <td>120.507261</td>\n",
       "      <td>303.0</td>\n",
       "      <td>81.565924</td>\n",
       "    </tr>\n",
       "    <tr>\n",
       "      <th>90</th>\n",
       "      <td>Windgap</td>\n",
       "      <td>91</td>\n",
       "      <td>647.0</td>\n",
       "      <td>100.124922</td>\n",
       "      <td>472.0</td>\n",
       "      <td>100.568385</td>\n",
       "      <td>175.0</td>\n",
       "      <td>65.513357</td>\n",
       "    </tr>\n",
       "  </tbody>\n",
       "</table>\n",
       "<p>91 rows × 8 columns</p>\n",
       "</div>"
      ],
      "text/plain": [
       "           Neighborhood  Id  Estimate; Total:  Margin of Error; Total:  \\\n",
       "0      Allegheny Center   1             870.0                93.000000   \n",
       "1        Allegheny West   2             146.0                36.000000   \n",
       "2             Allentown   3            1069.0               132.457540   \n",
       "3             Arlington   4             701.0               104.465305   \n",
       "4     Arlington Heights   5             144.0                59.000000   \n",
       "..                  ...  ..               ...                      ...   \n",
       "86  Upper Lawrenceville  87            1287.0               137.091211   \n",
       "87             West End  88              99.0                47.000000   \n",
       "88         West Oakland  89             630.0                79.611557   \n",
       "89             Westwood  90            1492.0               112.538882   \n",
       "90              Windgap  91             647.0               100.124922   \n",
       "\n",
       "    Estimate; Total: - With wage or salary income  \\\n",
       "0                                           635.0   \n",
       "1                                           119.0   \n",
       "2                                           736.0   \n",
       "3                                           570.0   \n",
       "4                                            99.0   \n",
       "..                                            ...   \n",
       "86                                          998.0   \n",
       "87                                           81.0   \n",
       "88                                          334.0   \n",
       "89                                         1189.0   \n",
       "90                                          472.0   \n",
       "\n",
       "    Margin of Error; Total: - With wage or salary income  \\\n",
       "0                                           91.000000      \n",
       "1                                           35.000000      \n",
       "2                                          140.335313      \n",
       "3                                          106.273233      \n",
       "4                                           60.000000      \n",
       "..                                                ...      \n",
       "86                                         141.322327      \n",
       "87                                          49.000000      \n",
       "88                                          64.660653      \n",
       "89                                         120.507261      \n",
       "90                                         100.568385      \n",
       "\n",
       "    Estimate; Total: - No wage or salary income  \\\n",
       "0                                         235.0   \n",
       "1                                          27.0   \n",
       "2                                         333.0   \n",
       "3                                         131.0   \n",
       "4                                          45.0   \n",
       "..                                          ...   \n",
       "86                                        289.0   \n",
       "87                                         18.0   \n",
       "88                                        296.0   \n",
       "89                                        303.0   \n",
       "90                                        175.0   \n",
       "\n",
       "    Margin of Error; Total: - No wage or salary income  \n",
       "0                                           59.000000   \n",
       "1                                           20.000000   \n",
       "2                                           97.493590   \n",
       "3                                           45.199558   \n",
       "4                                           30.000000   \n",
       "..                                                ...   \n",
       "86                                          92.330927   \n",
       "87                                          16.000000   \n",
       "88                                          66.241981   \n",
       "89                                          81.565924   \n",
       "90                                          65.513357   \n",
       "\n",
       "[91 rows x 8 columns]"
      ]
     },
     "execution_count": 14,
     "metadata": {},
     "output_type": "execute_result"
    }
   ],
   "source": [
    "# Select numeric columns\n",
    "numeric_columns = SelfEmploymentIncome.select_dtypes(include='number').columns\n",
    "\n",
    "# Calculate mean for numeric columns\n",
    "mean_values = SelfEmploymentIncome[numeric_columns].mean()\n",
    "\n",
    "# Fill missing values in numeric columns with their respective means\n",
    "SelfEmploymentIncome_cleaned = SelfEmploymentIncome.copy()\n",
    "SelfEmploymentIncome_cleaned[numeric_columns] = SelfEmploymentIncome_cleaned[numeric_columns].fillna(mean_values)\n",
    "\n",
    "# Fill NaNs with Mean Values for All Columns\n",
    "for col in SelfEmploymentIncome.columns:\n",
    "    if pd.api.types.is_numeric_dtype(SelfEmploymentIncome[col]):\n",
    "        SelfEmploymentIncome[col].fillna(SelfEmploymentIncome[col].mean(), inplace=True)\n",
    "    else:\n",
    "\n",
    "        SelfEmploymentIncome[col].fillna('Unknown', inplace=True)  # filling non-numeric with 'Unknown'\n",
    "\n",
    "# SelfEmploymentIncome is now cleaned\n",
    "SelfEmploymentIncome_cleaned = SelfEmploymentIncome\n",
    "\n",
    "# Fill missing values in numeric columns of SalaryIncome with their means\n",
    "numeric_columns = SalaryIncome.select_dtypes(include='number').columns\n",
    "mean_values = SalaryIncome[numeric_columns].mean()\n",
    "SalaryIncome[numeric_columns] = SalaryIncome[numeric_columns].fillna(mean_values)\n",
    "\n",
    "# Convert 'Id' column to string\n",
    "SalaryIncome['Id'] = SalaryIncome['Id'].astype(str)\n",
    "\n",
    "# Display the cleaned dataframe\n",
    "print(\"\\nCleaned DataFrame Salary Income:\")\n",
    "SalaryIncome"
   ]
  },
  {
   "cell_type": "markdown",
   "metadata": {},
   "source": [
    "### 3.2. Handle Data Types"
   ]
  },
  {
   "cell_type": "code",
   "execution_count": 15,
   "metadata": {},
   "outputs": [],
   "source": [
    "# Check for 'SERIALNO' in both dataframes\n",
    "if 'SERIALNO' in SalaryIncome.columns:\n",
    "    SalaryIncome['SERIALNO'] = SalaryIncome['SERIALNO'].astype(str)\n",
    "    \n",
    "if 'SERIALNO' in SelfEmploymentIncome.columns:\n",
    "    SelfEmploymentIncome['SERIALNO'] = SelfEmploymentIncome['SERIALNO'].astype(str)"
   ]
  },
  {
   "cell_type": "markdown",
   "metadata": {},
   "source": [
    "### 3.3. Remove Redundant Columns"
   ]
  },
  {
   "cell_type": "code",
   "execution_count": 16,
   "metadata": {},
   "outputs": [
    {
     "name": "stdout",
     "output_type": "stream",
     "text": [
      "Columns in SelfEmploymentIncome_cleaned:\n",
      "Index(['Neighborhood', 'Id', 'Estimate; Total:', 'Margin of Error; Total:',\n",
      "       'Estimate; Total: - With self-employment income',\n",
      "       'Margin of Error; Total: - With self-employment income',\n",
      "       'Estimate; Total: - No self-employment income',\n",
      "       'Margin of Error; Total: - No self-employment income'],\n",
      "      dtype='object')\n",
      "No redundant columns found in SelfEmploymentIncome_cleaned\n"
     ]
    }
   ],
   "source": [
    "# Verify the columns in SelfEmploymentIncome_cleaned\n",
    "print(\"Columns in SelfEmploymentIncome_cleaned:\")\n",
    "print(SelfEmploymentIncome_cleaned.columns)\n",
    "\n",
    "# Remove redundant columns only if they exist in the dataframe\n",
    "redundant_columns_SelfEmploymentIncome = ['SERIALNO', 'PUMA']\n",
    "columns_to_drop = [col for col in redundant_columns_SelfEmploymentIncome if col in SelfEmploymentIncome_cleaned.columns]\n",
    "\n",
    "# Drop the columns\n",
    "if columns_to_drop:\n",
    "    SelfEmploymentIncome_cleaned.drop(columns=columns_to_drop, inplace=True)\n",
    "else:\n",
    "    print(\"No redundant columns found in SelfEmploymentIncome_cleaned\")"
   ]
  },
  {
   "cell_type": "code",
   "execution_count": 17,
   "metadata": {},
   "outputs": [
    {
     "name": "stdout",
     "output_type": "stream",
     "text": [
      "Cleaned DataFrame SelfEmploymentIncome_cleaned:\n"
     ]
    },
    {
     "data": {
      "text/html": [
       "<div>\n",
       "<style scoped>\n",
       "    .dataframe tbody tr th:only-of-type {\n",
       "        vertical-align: middle;\n",
       "    }\n",
       "\n",
       "    .dataframe tbody tr th {\n",
       "        vertical-align: top;\n",
       "    }\n",
       "\n",
       "    .dataframe thead th {\n",
       "        text-align: right;\n",
       "    }\n",
       "</style>\n",
       "<table border=\"1\" class=\"dataframe\">\n",
       "  <thead>\n",
       "    <tr style=\"text-align: right;\">\n",
       "      <th></th>\n",
       "      <th>Neighborhood</th>\n",
       "      <th>Id</th>\n",
       "      <th>Estimate; Total:</th>\n",
       "      <th>Margin of Error; Total:</th>\n",
       "      <th>Estimate; Total: - With self-employment income</th>\n",
       "      <th>Margin of Error; Total: - With self-employment income</th>\n",
       "      <th>Estimate; Total: - No self-employment income</th>\n",
       "      <th>Margin of Error; Total: - No self-employment income</th>\n",
       "    </tr>\n",
       "  </thead>\n",
       "  <tbody>\n",
       "    <tr>\n",
       "      <th>0</th>\n",
       "      <td>Allegheny Center</td>\n",
       "      <td>1</td>\n",
       "      <td>870.0</td>\n",
       "      <td>93.000000</td>\n",
       "      <td>36.0</td>\n",
       "      <td>25.000000</td>\n",
       "      <td>834.0</td>\n",
       "      <td>88.000000</td>\n",
       "    </tr>\n",
       "    <tr>\n",
       "      <th>1</th>\n",
       "      <td>Allegheny West</td>\n",
       "      <td>2</td>\n",
       "      <td>146.0</td>\n",
       "      <td>36.000000</td>\n",
       "      <td>22.0</td>\n",
       "      <td>20.000000</td>\n",
       "      <td>124.0</td>\n",
       "      <td>34.000000</td>\n",
       "    </tr>\n",
       "    <tr>\n",
       "      <th>2</th>\n",
       "      <td>Allentown</td>\n",
       "      <td>3</td>\n",
       "      <td>1069.0</td>\n",
       "      <td>132.457540</td>\n",
       "      <td>12.0</td>\n",
       "      <td>23.685439</td>\n",
       "      <td>1057.0</td>\n",
       "      <td>132.457540</td>\n",
       "    </tr>\n",
       "    <tr>\n",
       "      <th>3</th>\n",
       "      <td>Arlington</td>\n",
       "      <td>4</td>\n",
       "      <td>701.0</td>\n",
       "      <td>104.465305</td>\n",
       "      <td>28.0</td>\n",
       "      <td>26.286879</td>\n",
       "      <td>673.0</td>\n",
       "      <td>105.531986</td>\n",
       "    </tr>\n",
       "    <tr>\n",
       "      <th>4</th>\n",
       "      <td>Arlington Heights</td>\n",
       "      <td>5</td>\n",
       "      <td>144.0</td>\n",
       "      <td>59.000000</td>\n",
       "      <td>0.0</td>\n",
       "      <td>10.000000</td>\n",
       "      <td>144.0</td>\n",
       "      <td>59.000000</td>\n",
       "    </tr>\n",
       "    <tr>\n",
       "      <th>...</th>\n",
       "      <td>...</td>\n",
       "      <td>...</td>\n",
       "      <td>...</td>\n",
       "      <td>...</td>\n",
       "      <td>...</td>\n",
       "      <td>...</td>\n",
       "      <td>...</td>\n",
       "      <td>...</td>\n",
       "    </tr>\n",
       "    <tr>\n",
       "      <th>86</th>\n",
       "      <td>Upper Lawrenceville</td>\n",
       "      <td>87</td>\n",
       "      <td>1287.0</td>\n",
       "      <td>137.091211</td>\n",
       "      <td>132.0</td>\n",
       "      <td>77.239886</td>\n",
       "      <td>1155.0</td>\n",
       "      <td>134.484200</td>\n",
       "    </tr>\n",
       "    <tr>\n",
       "      <th>87</th>\n",
       "      <td>West End</td>\n",
       "      <td>88</td>\n",
       "      <td>99.0</td>\n",
       "      <td>47.000000</td>\n",
       "      <td>14.0</td>\n",
       "      <td>21.000000</td>\n",
       "      <td>85.0</td>\n",
       "      <td>47.000000</td>\n",
       "    </tr>\n",
       "    <tr>\n",
       "      <th>88</th>\n",
       "      <td>West Oakland</td>\n",
       "      <td>89</td>\n",
       "      <td>630.0</td>\n",
       "      <td>79.611557</td>\n",
       "      <td>12.0</td>\n",
       "      <td>15.620499</td>\n",
       "      <td>618.0</td>\n",
       "      <td>78.771822</td>\n",
       "    </tr>\n",
       "    <tr>\n",
       "      <th>89</th>\n",
       "      <td>Westwood</td>\n",
       "      <td>90</td>\n",
       "      <td>1492.0</td>\n",
       "      <td>112.538882</td>\n",
       "      <td>86.0</td>\n",
       "      <td>55.470713</td>\n",
       "      <td>1406.0</td>\n",
       "      <td>113.145923</td>\n",
       "    </tr>\n",
       "    <tr>\n",
       "      <th>90</th>\n",
       "      <td>Windgap</td>\n",
       "      <td>91</td>\n",
       "      <td>647.0</td>\n",
       "      <td>100.124922</td>\n",
       "      <td>28.0</td>\n",
       "      <td>25.000000</td>\n",
       "      <td>619.0</td>\n",
       "      <td>100.124922</td>\n",
       "    </tr>\n",
       "  </tbody>\n",
       "</table>\n",
       "<p>91 rows × 8 columns</p>\n",
       "</div>"
      ],
      "text/plain": [
       "           Neighborhood  Id  Estimate; Total:  Margin of Error; Total:  \\\n",
       "0      Allegheny Center   1             870.0                93.000000   \n",
       "1        Allegheny West   2             146.0                36.000000   \n",
       "2             Allentown   3            1069.0               132.457540   \n",
       "3             Arlington   4             701.0               104.465305   \n",
       "4     Arlington Heights   5             144.0                59.000000   \n",
       "..                  ...  ..               ...                      ...   \n",
       "86  Upper Lawrenceville  87            1287.0               137.091211   \n",
       "87             West End  88              99.0                47.000000   \n",
       "88         West Oakland  89             630.0                79.611557   \n",
       "89             Westwood  90            1492.0               112.538882   \n",
       "90              Windgap  91             647.0               100.124922   \n",
       "\n",
       "    Estimate; Total: - With self-employment income  \\\n",
       "0                                             36.0   \n",
       "1                                             22.0   \n",
       "2                                             12.0   \n",
       "3                                             28.0   \n",
       "4                                              0.0   \n",
       "..                                             ...   \n",
       "86                                           132.0   \n",
       "87                                            14.0   \n",
       "88                                            12.0   \n",
       "89                                            86.0   \n",
       "90                                            28.0   \n",
       "\n",
       "    Margin of Error; Total: - With self-employment income  \\\n",
       "0                                           25.000000       \n",
       "1                                           20.000000       \n",
       "2                                           23.685439       \n",
       "3                                           26.286879       \n",
       "4                                           10.000000       \n",
       "..                                                ...       \n",
       "86                                          77.239886       \n",
       "87                                          21.000000       \n",
       "88                                          15.620499       \n",
       "89                                          55.470713       \n",
       "90                                          25.000000       \n",
       "\n",
       "    Estimate; Total: - No self-employment income  \\\n",
       "0                                          834.0   \n",
       "1                                          124.0   \n",
       "2                                         1057.0   \n",
       "3                                          673.0   \n",
       "4                                          144.0   \n",
       "..                                           ...   \n",
       "86                                        1155.0   \n",
       "87                                          85.0   \n",
       "88                                         618.0   \n",
       "89                                        1406.0   \n",
       "90                                         619.0   \n",
       "\n",
       "    Margin of Error; Total: - No self-employment income  \n",
       "0                                           88.000000    \n",
       "1                                           34.000000    \n",
       "2                                          132.457540    \n",
       "3                                          105.531986    \n",
       "4                                           59.000000    \n",
       "..                                                ...    \n",
       "86                                         134.484200    \n",
       "87                                          47.000000    \n",
       "88                                          78.771822    \n",
       "89                                         113.145923    \n",
       "90                                         100.124922    \n",
       "\n",
       "[91 rows x 8 columns]"
      ]
     },
     "execution_count": 17,
     "metadata": {},
     "output_type": "execute_result"
    }
   ],
   "source": [
    "# Display the cleaned dataframe\n",
    "print(\"Cleaned DataFrame SelfEmploymentIncome_cleaned:\")\n",
    "SelfEmploymentIncome_cleaned"
   ]
  },
  {
   "cell_type": "markdown",
   "metadata": {},
   "source": [
    "### 3.4. Ensure Data Structure"
   ]
  },
  {
   "cell_type": "code",
   "execution_count": 18,
   "metadata": {},
   "outputs": [
    {
     "data": {
      "text/plain": [
       "(91, 8)"
      ]
     },
     "execution_count": 18,
     "metadata": {},
     "output_type": "execute_result"
    }
   ],
   "source": [
    "# Ensure the structure is appropriate\n",
    "SelfEmploymentIncome_cleaned.shape\n",
    "SalaryIncome.shape"
   ]
  },
  {
   "cell_type": "markdown",
   "metadata": {
    "id": "F42urHuzttjF"
   },
   "source": [
    "## 4. Update your data store\n"
   ]
  },
  {
   "cell_type": "code",
   "execution_count": 19,
   "metadata": {
    "id": "V3uay7EJUV_L"
   },
   "outputs": [],
   "source": [
    "# Save cleaned datasets to CSV files\n",
    "SelfEmploymentIncome_cleaned.to_csv('SelfEmploymentIncome_cleaned.csv', index=False)\n",
    "SalaryIncome.to_csv('salary_income_cleaned.csv', index=False)"
   ]
  },
  {
   "cell_type": "markdown",
   "metadata": {
    "id": "cGy_yddGtzhM"
   },
   "source": [
    "## 5. Answer the research question\n",
    "\n",
    "### **5.1:** Define and answer the research question \n",
    "\n",
    "#### Calculate the average income across both datasets"
   ]
  },
  {
   "cell_type": "code",
   "execution_count": 20,
   "metadata": {},
   "outputs": [
    {
     "name": "stdout",
     "output_type": "stream",
     "text": [
      "Average Self Employment Income: 112.70\n",
      "Average Salary Income: 1069.47\n"
     ]
    }
   ],
   "source": [
    "# Calculate mean of 'Estimate; Total: - With self-employment income' and 'Estimate; Total: - With wage or salary income'\n",
    "avg_self_employment_income = SelfEmploymentIncome_cleaned['Estimate; Total: - With self-employment income'].mean()\n",
    "avg_salary_income = SalaryIncome['Estimate; Total: - With wage or salary income'].mean()\n",
    "\n",
    "print(f\"Average Self Employment Income: {avg_self_employment_income:.2f}\")\n",
    "print(f\"Average Salary Income: {avg_salary_income:.2f}\")"
   ]
  },
  {
   "cell_type": "markdown",
   "metadata": {},
   "source": [
    "### 5.2. Generate Visualizations"
   ]
  },
  {
   "cell_type": "code",
   "execution_count": 21,
   "metadata": {
    "scrolled": false
   },
   "outputs": [
    {
     "data": {
      "image/png": "[encoded data removed]",
      "text/plain": [
       "<Figure size 864x432 with 2 Axes>"
      ]
     },
     "metadata": {
      "needs_background": "light"
     },
     "output_type": "display_data"
    }
   ],
   "source": [
    "# Plot the distributions of income\n",
    "plt.figure(figsize=(12, 6))\n",
    "\n",
    "# Distribution of self-employment income\n",
    "plt.subplot(1, 2, 1)\n",
    "sns.histplot(SelfEmploymentIncome_cleaned['Estimate; Total: - With self-employment income'], kde=True, color='blue')\n",
    "plt.title('Distribution of Self Employment Income')\n",
    "\n",
    "# Distribution of salary income\n",
    "plt.subplot(1, 2, 2)\n",
    "sns.histplot(SalaryIncome['Estimate; Total: - With wage or salary income'], kde=True, color='green')\n",
    "plt.title('Distribution of Salary Income')\n",
    "\n",
    "plt.tight_layout()\n",
    "plt.show()"
   ]
  },
  {
   "cell_type": "markdown",
   "metadata": {},
   "source": [
    "##### Findings from the Visualizations\n",
    "* Self-Employment Income Distribution: The distribution is heavily right-skewed, with most households earning low amounts from self-employment. A few households report significantly higher earnings, but these are outliers.\n",
    "\n",
    "* Salary Income Distribution: Similarly, salary income is also skewed, but a larger portion of the population earns relatively higher amounts compared to self-employment income. This indicates that salary income is generally more consistent and higher than self-employment income.\n",
    "\n",
    "###### Conclusion: The visualizations indicate that salary income tends to be higher and less variable than self-employment income. This suggests that individuals relying solely on self-employment may have more volatile earnings."
   ]
  },
  {
   "cell_type": "markdown",
   "metadata": {
    "id": "0ezWXXZVj-TP"
   },
   "source": [
    "### **5.2:** Reflection\n",
    "If I had more time to finish the analysis, I would investigate the connections between various forms of income and other socioeconomic traits. Furthermore, greater insights into income patterns and their implications could be obtained by more comprehensive data cleansing and sophisticated statistical techniques.\n"
   ]
  }
 ],
 "metadata": {
  "colab": {
   "provenance": []
  },
  "kernelspec": {
   "display_name": "Python 3 (ipykernel)",
   "language": "python",
   "name": "python3"
  },
  "language_info": {
   "codemirror_mode": {
    "name": "ipython",
    "version": 3
   },
   "file_extension": ".py",
   "mimetype": "text/x-python",
   "name": "python",
   "nbconvert_exporter": "python",
   "pygments_lexer": "ipython3",
   "version": "3.9.7"
  }
 },
 "nbformat": 4,
 "nbformat_minor": 1
}
